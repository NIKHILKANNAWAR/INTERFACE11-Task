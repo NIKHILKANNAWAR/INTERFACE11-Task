{
  "nbformat": 4,
  "nbformat_minor": 0,
  "metadata": {
    "colab": {
      "provenance": []
    },
    "kernelspec": {
      "name": "python3",
      "display_name": "Python 3"
    },
    "language_info": {
      "name": "python"
    }
  },
  "cells": [
    {
      "cell_type": "code",
      "source": [
        "!pip install surprise"
      ],
      "metadata": {
        "colab": {
          "base_uri": "https://localhost:8080/"
        },
        "id": "SJaHdJGUbP7I",
        "outputId": "ed096674-2b47-4ef5-aa4d-a034cab8bb2a"
      },
      "execution_count": 1,
      "outputs": [
        {
          "output_type": "stream",
          "name": "stdout",
          "text": [
            "Collecting surprise\n",
            "  Downloading surprise-0.1-py2.py3-none-any.whl.metadata (327 bytes)\n",
            "Collecting scikit-surprise (from surprise)\n",
            "  Downloading scikit_surprise-1.1.4.tar.gz (154 kB)\n",
            "\u001b[2K     \u001b[90m━━━━━━━━━━━━━━━━━━━━━━━━━━━━━━━━━━━━━━━━\u001b[0m \u001b[32m154.4/154.4 kB\u001b[0m \u001b[31m2.8 MB/s\u001b[0m eta \u001b[36m0:00:00\u001b[0m\n",
            "\u001b[?25h  Installing build dependencies ... \u001b[?25l\u001b[?25hdone\n",
            "  Getting requirements to build wheel ... \u001b[?25l\u001b[?25hdone\n",
            "  Preparing metadata (pyproject.toml) ... \u001b[?25l\u001b[?25hdone\n",
            "Requirement already satisfied: joblib>=1.2.0 in /usr/local/lib/python3.11/dist-packages (from scikit-surprise->surprise) (1.4.2)\n",
            "Requirement already satisfied: numpy>=1.19.5 in /usr/local/lib/python3.11/dist-packages (from scikit-surprise->surprise) (1.26.4)\n",
            "Requirement already satisfied: scipy>=1.6.0 in /usr/local/lib/python3.11/dist-packages (from scikit-surprise->surprise) (1.14.1)\n",
            "Downloading surprise-0.1-py2.py3-none-any.whl (1.8 kB)\n",
            "Building wheels for collected packages: scikit-surprise\n",
            "  Building wheel for scikit-surprise (pyproject.toml) ... \u001b[?25l\u001b[?25hdone\n",
            "  Created wheel for scikit-surprise: filename=scikit_surprise-1.1.4-cp311-cp311-linux_x86_64.whl size=2505183 sha256=efebf939e98737050c28c940f2f6883938e269733f7b8048be3b3420c9240237\n",
            "  Stored in directory: /root/.cache/pip/wheels/2a/8f/6e/7e2899163e2d85d8266daab4aa1cdabec7a6c56f83c015b5af\n",
            "Successfully built scikit-surprise\n",
            "Installing collected packages: scikit-surprise, surprise\n",
            "Successfully installed scikit-surprise-1.1.4 surprise-0.1\n"
          ]
        }
      ]
    },
    {
      "cell_type": "code",
      "source": [
        "import pandas as pd\n",
        "import numpy as np\n",
        "from surprise import SVD\n",
        "from surprise import Dataset\n",
        "from surprise.model_selection import cross_validate\n",
        "from surprise import Reader\n",
        "from scipy.sparse import csr_matrix\n",
        "\n",
        "df = pd.read_csv(\"ratings.csv\")\n",
        "\n",
        "df.info()\n",
        "\n",
        "df.dropna(inplace=True)\n",
        "\n",
        "sparse_matrix = csr_matrix((df['rating'], (df['userId'], df['movieId'])))\n",
        "\n",
        "reader = Reader(rating_scale=(0.5, 5.0))\n",
        "\n",
        "data = Dataset.load_from_df(df[['userId', 'movieId', 'rating']], reader)\n",
        "trainset = data.build_full_trainset()\n",
        "\n",
        "model = SVD()\n",
        "model.fit(trainset)\n",
        "\n",
        "cross_validate(model, data, measures=['RMSE', 'MAE'], cv=5, verbose=True)"
      ],
      "metadata": {
        "colab": {
          "base_uri": "https://localhost:8080/"
        },
        "id": "y7Uh9DV0eMOu",
        "outputId": "40ae3b66-8bc1-41cb-c3d3-cd2151708381"
      },
      "execution_count": 13,
      "outputs": [
        {
          "output_type": "stream",
          "name": "stdout",
          "text": [
            "<class 'pandas.core.frame.DataFrame'>\n",
            "RangeIndex: 100836 entries, 0 to 100835\n",
            "Data columns (total 4 columns):\n",
            " #   Column     Non-Null Count   Dtype  \n",
            "---  ------     --------------   -----  \n",
            " 0   userId     100836 non-null  int64  \n",
            " 1   movieId    100836 non-null  int64  \n",
            " 2   rating     100836 non-null  float64\n",
            " 3   timestamp  100836 non-null  int64  \n",
            "dtypes: float64(1), int64(3)\n",
            "memory usage: 3.1 MB\n",
            "Evaluating RMSE, MAE of algorithm SVD on 5 split(s).\n",
            "\n",
            "                  Fold 1  Fold 2  Fold 3  Fold 4  Fold 5  Mean    Std     \n",
            "RMSE (testset)    0.8633  0.8820  0.8706  0.8827  0.8692  0.8736  0.0076  \n",
            "MAE (testset)     0.6642  0.6752  0.6665  0.6793  0.6692  0.6709  0.0056  \n",
            "Fit time          1.47    1.50    1.49    1.51    2.34    1.66    0.34    \n",
            "Test time         0.10    0.34    0.10    0.19    0.42    0.23    0.13    \n"
          ]
        },
        {
          "output_type": "execute_result",
          "data": {
            "text/plain": [
              "{'test_rmse': array([0.86328655, 0.88200263, 0.8706162 , 0.8827396 , 0.86923476]),\n",
              " 'test_mae': array([0.66424068, 0.67518364, 0.66646396, 0.67932298, 0.66924134]),\n",
              " 'fit_time': (1.4695203304290771,\n",
              "  1.4992871284484863,\n",
              "  1.487313985824585,\n",
              "  1.5073788166046143,\n",
              "  2.343101978302002),\n",
              " 'test_time': (0.1042182445526123,\n",
              "  0.33635783195495605,\n",
              "  0.10196161270141602,\n",
              "  0.186293363571167,\n",
              "  0.418149471282959)}"
            ]
          },
          "metadata": {},
          "execution_count": 13
        }
      ]
    },
    {
      "cell_type": "code",
      "source": [
        "def get_top_n_recommendations(model, user_id, df, n=5):\n",
        "    all_items = df['movieId'].unique()\n",
        "    user_items = df[df['userId'] == user_id]['movieId'].unique()\n",
        "    items_to_predict = list(set(all_items) - set(user_items))\n",
        "    predictions = [model.predict(user_id, item).est for item in items_to_predict]\n",
        "    top_n_items = [x for _, x in sorted(zip(predictions, items_to_predict), reverse=True)][:n]\n",
        "    return top_n_items\n",
        "\n",
        "\n",
        "user_id = int(input(\"Enter user id:\"))\n",
        "n = int(input(\"Enter no. of movies to be recommended:\"))\n",
        "print(get_top_n_recommendations(model, user_id = user_id, df=df, n=n))"
      ],
      "metadata": {
        "colab": {
          "base_uri": "https://localhost:8080/"
        },
        "id": "2PUperHPhDsx",
        "outputId": "5ca94a9a-03d9-4648-85ed-28b92d41ca32"
      },
      "execution_count": 14,
      "outputs": [
        {
          "output_type": "stream",
          "name": "stdout",
          "text": [
            "Enter user id:1\n",
            "Enter no. of movies to be recommended:5\n",
            "[58559, 44555, 27156, 8368, 7153]\n"
          ]
        }
      ]
    }
  ]
}