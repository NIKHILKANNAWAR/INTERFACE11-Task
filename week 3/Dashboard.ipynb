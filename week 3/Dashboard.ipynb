{
  "nbformat": 4,
  "nbformat_minor": 0,
  "metadata": {
    "colab": {
      "provenance": []
    },
    "kernelspec": {
      "name": "python3",
      "display_name": "Python 3"
    },
    "language_info": {
      "name": "python"
    }
  },
  "cells": [
    {
      "cell_type": "code",
      "source": [
        "!pip install streamlit pyngrok"
      ],
      "metadata": {
        "colab": {
          "base_uri": "https://localhost:8080/"
        },
        "id": "aq4oE-fnyXJv",
        "outputId": "6c1da0a9-ea47-47c4-b6c6-3dcf803e185c"
      },
      "execution_count": 18,
      "outputs": [
        {
          "output_type": "stream",
          "name": "stdout",
          "text": [
            "Requirement already satisfied: streamlit in /usr/local/lib/python3.11/dist-packages (1.44.1)\n",
            "Collecting pyngrok\n",
            "  Downloading pyngrok-7.2.4-py3-none-any.whl.metadata (8.7 kB)\n",
            "Requirement already satisfied: altair<6,>=4.0 in /usr/local/lib/python3.11/dist-packages (from streamlit) (5.5.0)\n",
            "Requirement already satisfied: blinker<2,>=1.0.0 in /usr/local/lib/python3.11/dist-packages (from streamlit) (1.9.0)\n",
            "Requirement already satisfied: cachetools<6,>=4.0 in /usr/local/lib/python3.11/dist-packages (from streamlit) (5.5.2)\n",
            "Requirement already satisfied: click<9,>=7.0 in /usr/local/lib/python3.11/dist-packages (from streamlit) (8.1.8)\n",
            "Requirement already satisfied: numpy<3,>=1.23 in /usr/local/lib/python3.11/dist-packages (from streamlit) (2.0.2)\n",
            "Requirement already satisfied: packaging<25,>=20 in /usr/local/lib/python3.11/dist-packages (from streamlit) (24.2)\n",
            "Requirement already satisfied: pandas<3,>=1.4.0 in /usr/local/lib/python3.11/dist-packages (from streamlit) (2.2.2)\n",
            "Requirement already satisfied: pillow<12,>=7.1.0 in /usr/local/lib/python3.11/dist-packages (from streamlit) (11.1.0)\n",
            "Requirement already satisfied: protobuf<6,>=3.20 in /usr/local/lib/python3.11/dist-packages (from streamlit) (5.29.4)\n",
            "Requirement already satisfied: pyarrow>=7.0 in /usr/local/lib/python3.11/dist-packages (from streamlit) (18.1.0)\n",
            "Requirement already satisfied: requests<3,>=2.27 in /usr/local/lib/python3.11/dist-packages (from streamlit) (2.32.3)\n",
            "Requirement already satisfied: tenacity<10,>=8.1.0 in /usr/local/lib/python3.11/dist-packages (from streamlit) (9.1.2)\n",
            "Requirement already satisfied: toml<2,>=0.10.1 in /usr/local/lib/python3.11/dist-packages (from streamlit) (0.10.2)\n",
            "Requirement already satisfied: typing-extensions<5,>=4.4.0 in /usr/local/lib/python3.11/dist-packages (from streamlit) (4.13.1)\n",
            "Requirement already satisfied: watchdog<7,>=2.1.5 in /usr/local/lib/python3.11/dist-packages (from streamlit) (6.0.0)\n",
            "Requirement already satisfied: gitpython!=3.1.19,<4,>=3.0.7 in /usr/local/lib/python3.11/dist-packages (from streamlit) (3.1.44)\n",
            "Requirement already satisfied: pydeck<1,>=0.8.0b4 in /usr/local/lib/python3.11/dist-packages (from streamlit) (0.9.1)\n",
            "Requirement already satisfied: tornado<7,>=6.0.3 in /usr/local/lib/python3.11/dist-packages (from streamlit) (6.4.2)\n",
            "Requirement already satisfied: PyYAML>=5.1 in /usr/local/lib/python3.11/dist-packages (from pyngrok) (6.0.2)\n",
            "Requirement already satisfied: jinja2 in /usr/local/lib/python3.11/dist-packages (from altair<6,>=4.0->streamlit) (3.1.6)\n",
            "Requirement already satisfied: jsonschema>=3.0 in /usr/local/lib/python3.11/dist-packages (from altair<6,>=4.0->streamlit) (4.23.0)\n",
            "Requirement already satisfied: narwhals>=1.14.2 in /usr/local/lib/python3.11/dist-packages (from altair<6,>=4.0->streamlit) (1.34.1)\n",
            "Requirement already satisfied: gitdb<5,>=4.0.1 in /usr/local/lib/python3.11/dist-packages (from gitpython!=3.1.19,<4,>=3.0.7->streamlit) (4.0.12)\n",
            "Requirement already satisfied: python-dateutil>=2.8.2 in /usr/local/lib/python3.11/dist-packages (from pandas<3,>=1.4.0->streamlit) (2.8.2)\n",
            "Requirement already satisfied: pytz>=2020.1 in /usr/local/lib/python3.11/dist-packages (from pandas<3,>=1.4.0->streamlit) (2025.2)\n",
            "Requirement already satisfied: tzdata>=2022.7 in /usr/local/lib/python3.11/dist-packages (from pandas<3,>=1.4.0->streamlit) (2025.2)\n",
            "Requirement already satisfied: charset-normalizer<4,>=2 in /usr/local/lib/python3.11/dist-packages (from requests<3,>=2.27->streamlit) (3.4.1)\n",
            "Requirement already satisfied: idna<4,>=2.5 in /usr/local/lib/python3.11/dist-packages (from requests<3,>=2.27->streamlit) (3.10)\n",
            "Requirement already satisfied: urllib3<3,>=1.21.1 in /usr/local/lib/python3.11/dist-packages (from requests<3,>=2.27->streamlit) (2.3.0)\n",
            "Requirement already satisfied: certifi>=2017.4.17 in /usr/local/lib/python3.11/dist-packages (from requests<3,>=2.27->streamlit) (2025.1.31)\n",
            "Requirement already satisfied: smmap<6,>=3.0.1 in /usr/local/lib/python3.11/dist-packages (from gitdb<5,>=4.0.1->gitpython!=3.1.19,<4,>=3.0.7->streamlit) (5.0.2)\n",
            "Requirement already satisfied: MarkupSafe>=2.0 in /usr/local/lib/python3.11/dist-packages (from jinja2->altair<6,>=4.0->streamlit) (3.0.2)\n",
            "Requirement already satisfied: attrs>=22.2.0 in /usr/local/lib/python3.11/dist-packages (from jsonschema>=3.0->altair<6,>=4.0->streamlit) (25.3.0)\n",
            "Requirement already satisfied: jsonschema-specifications>=2023.03.6 in /usr/local/lib/python3.11/dist-packages (from jsonschema>=3.0->altair<6,>=4.0->streamlit) (2024.10.1)\n",
            "Requirement already satisfied: referencing>=0.28.4 in /usr/local/lib/python3.11/dist-packages (from jsonschema>=3.0->altair<6,>=4.0->streamlit) (0.36.2)\n",
            "Requirement already satisfied: rpds-py>=0.7.1 in /usr/local/lib/python3.11/dist-packages (from jsonschema>=3.0->altair<6,>=4.0->streamlit) (0.24.0)\n",
            "Requirement already satisfied: six>=1.5 in /usr/local/lib/python3.11/dist-packages (from python-dateutil>=2.8.2->pandas<3,>=1.4.0->streamlit) (1.17.0)\n",
            "Downloading pyngrok-7.2.4-py3-none-any.whl (23 kB)\n",
            "Installing collected packages: pyngrok\n",
            "Successfully installed pyngrok-7.2.4\n"
          ]
        }
      ]
    },
    {
      "cell_type": "code",
      "source": [
        "%%writefile app.py\n",
        "import streamlit as st\n",
        "import pandas as pd\n",
        "import plotly.express as px\n",
        "\n",
        "# Title\n",
        "st.set_page_config(page_title=\"Superstore Dashboard\", layout=\"wide\")\n",
        "st.title(\"Superstore Business Insights Dashboard\")\n",
        "\n",
        "# Load data\n",
        "df = pd.read_csv(\"/content/Sample - Superstore.csv\", encoding='latin1', parse_dates=['Order Date', 'Ship Date'])\n",
        "df['Month'] = df['Order Date'].dt.to_period('M').astype(str)\n",
        "df['Year'] = df['Order Date'].dt.year\n",
        "\n",
        "# Sidebar filters\n",
        "st.sidebar.header(\"Filters\")\n",
        "\n",
        "regions = st.sidebar.multiselect(\"Select Region\", df['Region'].unique(), default=df['Region'].unique())\n",
        "categories = st.sidebar.multiselect(\"Select Category\", df['Category'].unique(), default=df['Category'].unique())\n",
        "years = st.sidebar.slider(\"Select Year Range\", int(df['Year'].min()), int(df['Year'].max()), (int(df['Year'].min()), int(df['Year'].max())))\n",
        "\n",
        "# Filtered data\n",
        "filtered_df = df[\n",
        "    (df['Region'].isin(regions)) &\n",
        "    (df['Category'].isin(categories)) &\n",
        "    (df['Year'].between(*years))\n",
        "]\n",
        "\n",
        "# KPIs\n",
        "total_sales = filtered_df['Sales'].sum()\n",
        "total_profit = filtered_df['Profit'].sum()\n",
        "average_order_value = filtered_df['Sales'].sum() / filtered_df['Quantity'].sum()\n",
        "\n",
        "col1, col2, col3 = st.columns(3)\n",
        "col1.metric(\"Total Sales\", f\"${total_sales:,.2f}\")\n",
        "col2.metric(\"Total Profit\", f\"${total_profit:,.2f}\")\n",
        "col3.metric(\"Avg Order Value\", f\"${average_order_value:,.2f}\")\n",
        "\n",
        "st.markdown(\"---\")\n",
        "\n",
        "# Sales Over Time\n",
        "sales_trend = filtered_df.groupby('Month')['Sales'].sum().reset_index()\n",
        "fig1 = px.line(sales_trend, x='Month', y='Sales', title='Sales Over Time', markers=True)\n",
        "st.plotly_chart(fig1, use_container_width=True)\n",
        "\n",
        "# Sales by Region\n",
        "sales_region = filtered_df.groupby('Region')['Sales'].sum().reset_index()\n",
        "fig2 = px.bar(sales_region, x='Region', y='Sales', title='Sales by Region', color='Region', text_auto='.2s')\n",
        "st.plotly_chart(fig2, use_container_width=True)\n",
        "\n",
        "# Sales by Category\n",
        "sales_category = filtered_df.groupby('Category')['Sales'].sum().reset_index()\n",
        "fig3 = px.pie(sales_category, values='Sales', names='Category', title='Sales by Category')\n",
        "st.plotly_chart(fig3, use_container_width=True)\n",
        "\n",
        "# Correlation Heatmap\n",
        "correlation = filtered_df[['Sales', 'Profit', 'Discount', 'Quantity']].corr()\n",
        "fig4 = px.imshow(correlation, text_auto=True, title=\"Correlation Between Sales Metrics\")\n",
        "st.plotly_chart(fig4, use_container_width=True)\n",
        "\n",
        "# Summary\n",
        "st.markdown(\"## Summary of Key Insights\")\n",
        "top_state = filtered_df.groupby('State')['Sales'].sum().sort_values(ascending=False).idxmax()\n",
        "top_category = filtered_df.groupby('Category')['Sales'].sum().sort_values(ascending=False).idxmax()\n",
        "\n",
        "st.markdown(f\"\"\"\n",
        "- **Top Performing State:** `{top_state}`\n",
        "- **Most Popular Category:** `{top_category}`\n",
        "- **Sales Growth Trend Available by Month Above**\n",
        "\"\"\")\n"
      ],
      "metadata": {
        "colab": {
          "base_uri": "https://localhost:8080/"
        },
        "id": "a3L10-Otz8ls",
        "outputId": "6b93f987-cd71-4b21-9b94-618190507ac9"
      },
      "execution_count": 33,
      "outputs": [
        {
          "output_type": "stream",
          "name": "stdout",
          "text": [
            "Overwriting app.py\n"
          ]
        }
      ]
    },
    {
      "cell_type": "code",
      "source": [
        "from pyngrok import ngrok\n",
        "!ngrok authtoken 2iVirvlJyLSNLLptyt7HZuigzBJ_68MmdVdXo5mindnLDG6Ak"
      ],
      "metadata": {
        "colab": {
          "base_uri": "https://localhost:8080/"
        },
        "id": "7dG_fmws1dXL",
        "outputId": "6f2da4b1-ef4e-41e4-f62e-157555db08ba"
      },
      "execution_count": 31,
      "outputs": [
        {
          "output_type": "stream",
          "name": "stdout",
          "text": [
            "Authtoken saved to configuration file: /root/.config/ngrok/ngrok.yml\n"
          ]
        }
      ]
    },
    {
      "cell_type": "code",
      "source": [
        "from pyngrok import ngrok\n",
        "\n",
        "# Kill existing tunnels\n",
        "ngrok.kill()\n",
        "\n",
        "# Run Streamlit app\n",
        "!streamlit run app.py &>/content/logs.txt &\n",
        "\n",
        "# Expose via public URL\n",
        "public_url = ngrok.connect(\"http://localhost:8501\")\n",
        "print(f\"🌐 Your Streamlit app is live at: {public_url}\")\n"
      ],
      "metadata": {
        "colab": {
          "base_uri": "https://localhost:8080/"
        },
        "id": "74HEisSY17kt",
        "outputId": "82091a80-1231-40f3-c29e-e347b46d09de"
      },
      "execution_count": 35,
      "outputs": [
        {
          "output_type": "stream",
          "name": "stdout",
          "text": [
            "🌐 Your Streamlit app is live at: NgrokTunnel: \"https://62ff-35-237-89-199.ngrok-free.app\" -> \"http://localhost:8501\"\n"
          ]
        }
      ]
    }
  ]
}