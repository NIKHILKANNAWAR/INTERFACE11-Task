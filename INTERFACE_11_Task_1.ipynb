{
  "cells": [
    {
      "cell_type": "markdown",
      "metadata": {
        "id": "view-in-github",
        "colab_type": "text"
      },
      "source": [
        "<a href=\"https://colab.research.google.com/github/NIKHILKANNAWAR/INTERFACE11-Task/blob/main/INTERFACE_11_Task_1.ipynb\" target=\"_parent\"><img src=\"https://colab.research.google.com/assets/colab-badge.svg\" alt=\"Open In Colab\"/></a>"
      ]
    },
    {
      "cell_type": "code",
      "execution_count": null,
      "metadata": {
        "colab": {
          "base_uri": "https://localhost:8080/"
        },
        "id": "blG2tM6HdcCz",
        "outputId": "72e5075b-b39a-4d58-836e-f6beae4f356a"
      },
      "outputs": [
        {
          "output_type": "stream",
          "name": "stdout",
          "text": [
            "Collecting flask-ngrok\n",
            "  Downloading flask_ngrok-0.0.25-py3-none-any.whl.metadata (1.8 kB)\n",
            "Requirement already satisfied: Flask>=0.8 in /usr/local/lib/python3.11/dist-packages (from flask-ngrok) (3.1.0)\n",
            "Requirement already satisfied: requests in /usr/local/lib/python3.11/dist-packages (from flask-ngrok) (2.32.3)\n",
            "Requirement already satisfied: Werkzeug>=3.1 in /usr/local/lib/python3.11/dist-packages (from Flask>=0.8->flask-ngrok) (3.1.3)\n",
            "Requirement already satisfied: Jinja2>=3.1.2 in /usr/local/lib/python3.11/dist-packages (from Flask>=0.8->flask-ngrok) (3.1.5)\n",
            "Requirement already satisfied: itsdangerous>=2.2 in /usr/local/lib/python3.11/dist-packages (from Flask>=0.8->flask-ngrok) (2.2.0)\n",
            "Requirement already satisfied: click>=8.1.3 in /usr/local/lib/python3.11/dist-packages (from Flask>=0.8->flask-ngrok) (8.1.8)\n",
            "Requirement already satisfied: blinker>=1.9 in /usr/local/lib/python3.11/dist-packages (from Flask>=0.8->flask-ngrok) (1.9.0)\n",
            "Requirement already satisfied: charset-normalizer<4,>=2 in /usr/local/lib/python3.11/dist-packages (from requests->flask-ngrok) (3.4.1)\n",
            "Requirement already satisfied: idna<4,>=2.5 in /usr/local/lib/python3.11/dist-packages (from requests->flask-ngrok) (3.10)\n",
            "Requirement already satisfied: urllib3<3,>=1.21.1 in /usr/local/lib/python3.11/dist-packages (from requests->flask-ngrok) (2.3.0)\n",
            "Requirement already satisfied: certifi>=2017.4.17 in /usr/local/lib/python3.11/dist-packages (from requests->flask-ngrok) (2024.12.14)\n",
            "Requirement already satisfied: MarkupSafe>=2.0 in /usr/local/lib/python3.11/dist-packages (from Jinja2>=3.1.2->Flask>=0.8->flask-ngrok) (3.0.2)\n",
            "Downloading flask_ngrok-0.0.25-py3-none-any.whl (3.1 kB)\n",
            "Installing collected packages: flask-ngrok\n",
            "Successfully installed flask-ngrok-0.0.25\n",
            "Requirement already satisfied: flask in /usr/local/lib/python3.11/dist-packages (3.1.0)\n",
            "Requirement already satisfied: Werkzeug>=3.1 in /usr/local/lib/python3.11/dist-packages (from flask) (3.1.3)\n",
            "Requirement already satisfied: Jinja2>=3.1.2 in /usr/local/lib/python3.11/dist-packages (from flask) (3.1.5)\n",
            "Requirement already satisfied: itsdangerous>=2.2 in /usr/local/lib/python3.11/dist-packages (from flask) (2.2.0)\n",
            "Requirement already satisfied: click>=8.1.3 in /usr/local/lib/python3.11/dist-packages (from flask) (8.1.8)\n",
            "Requirement already satisfied: blinker>=1.9 in /usr/local/lib/python3.11/dist-packages (from flask) (1.9.0)\n",
            "Requirement already satisfied: MarkupSafe>=2.0 in /usr/local/lib/python3.11/dist-packages (from Jinja2>=3.1.2->flask) (3.0.2)\n",
            "Collecting pyngrok\n",
            "  Downloading pyngrok-7.2.3-py3-none-any.whl.metadata (8.7 kB)\n",
            "Requirement already satisfied: PyYAML>=5.1 in /usr/local/lib/python3.11/dist-packages (from pyngrok) (6.0.2)\n",
            "Downloading pyngrok-7.2.3-py3-none-any.whl (23 kB)\n",
            "Installing collected packages: pyngrok\n",
            "Successfully installed pyngrok-7.2.3\n"
          ]
        }
      ],
      "source": [
        "# insatalling all required libraries\n",
        "!pip install flask-ngrok\n",
        "!pip install flask\n",
        "!pip install pyngrok"
      ]
    },
    {
      "cell_type": "code",
      "execution_count": null,
      "metadata": {
        "colab": {
          "base_uri": "https://localhost:8080/"
        },
        "id": "oluVoZNje-in",
        "outputId": "f4de5eb3-224a-482c-b6d1-40fd62834e89"
      },
      "outputs": [
        {
          "output_type": "stream",
          "name": "stdout",
          "text": [
            "Requirement already satisfied: flask in /usr/local/lib/python3.11/dist-packages (3.1.0)\n",
            "Requirement already satisfied: pyngrok in /usr/local/lib/python3.11/dist-packages (7.2.3)\n",
            "Requirement already satisfied: Werkzeug>=3.1 in /usr/local/lib/python3.11/dist-packages (from flask) (3.1.3)\n",
            "Requirement already satisfied: Jinja2>=3.1.2 in /usr/local/lib/python3.11/dist-packages (from flask) (3.1.5)\n",
            "Requirement already satisfied: itsdangerous>=2.2 in /usr/local/lib/python3.11/dist-packages (from flask) (2.2.0)\n",
            "Requirement already satisfied: click>=8.1.3 in /usr/local/lib/python3.11/dist-packages (from flask) (8.1.8)\n",
            "Requirement already satisfied: blinker>=1.9 in /usr/local/lib/python3.11/dist-packages (from flask) (1.9.0)\n",
            "Requirement already satisfied: PyYAML>=5.1 in /usr/local/lib/python3.11/dist-packages (from pyngrok) (6.0.2)\n",
            "Requirement already satisfied: MarkupSafe>=2.0 in /usr/local/lib/python3.11/dist-packages (from Jinja2>=3.1.2->flask) (3.0.2)\n"
          ]
        }
      ],
      "source": [
        "!pip install flask pyngrok"
      ]
    },
    {
      "cell_type": "code",
      "source": [
        "# importing required modules and libraries\n",
        "from flask import Flask, request, jsonify\n",
        "from pyngrok import ngrok\n",
        "import threading"
      ],
      "metadata": {
        "id": "iqkk5mHSeC1g"
      },
      "execution_count": null,
      "outputs": []
    },
    {
      "cell_type": "code",
      "source": [
        "# pyngrok authentication(required to connect ngrok)\n",
        "from pyngrok import ngrok\n",
        "!ngrok authtoken 2iVirvlJyLSNLLptyt7HZuigzBJ_68MmdVdXo5mindnLDG6Ak"
      ],
      "metadata": {
        "colab": {
          "base_uri": "https://localhost:8080/"
        },
        "id": "_nT-qY3PeOKg",
        "outputId": "f10b8b8d-fdde-4ed7-a038-c5952da66504"
      },
      "execution_count": null,
      "outputs": [
        {
          "output_type": "stream",
          "name": "stdout",
          "text": [
            "Authtoken saved to configuration file: /root/.config/ngrok/ngrok.yml\n"
          ]
        }
      ]
    },
    {
      "cell_type": "code",
      "source": [
        "# Creating flask application\n",
        "app = Flask(__name__)\n",
        "\n",
        "# The users is dictionary to data. It will acts as database for our application\n",
        "users = {}\n",
        "next_id = 1\n",
        "\n",
        "# Create user where we have used post method at endpoint\n",
        "@app.route(\"/users\", methods=[\"POST\"])\n",
        "def create_user():\n",
        "    global next_id\n",
        "    data = request.get_json()\n",
        "    name = data.get(\"name\")\n",
        "    email = data.get(\"email\")\n",
        "\n",
        "# Check whether data is correct or not\n",
        "    if not name or not email:\n",
        "        return jsonify({\"error\": \"Name and email are required\"}), 400\n",
        "\n",
        "    user_id = next_id\n",
        "    users[user_id] = {\"id\": user_id, \"name\": name, \"email\": email}\n",
        "    next_id += 1\n",
        "\n",
        "    return jsonify(users[user_id]), 201\n",
        "\n",
        "# Get all users present in users. Here we have used get method at endpoint.\n",
        "@app.route(\"/users\", methods=[\"GET\"])\n",
        "def read_users():\n",
        "    return jsonify(list(users.values())), 200\n",
        "\n",
        "# Get user by id. We have used get method at endpoint.\n",
        "@app.route(\"/users/<int:user_id>\", methods=[\"GET\"])\n",
        "def read_user(user_id):\n",
        "    user = users.get(user_id)\n",
        "    if user:# check if user present\n",
        "        return jsonify(user), 200\n",
        "    else:# if user is not present\n",
        "        return jsonify({\"error\": \"User not found\"}), 404\n",
        "\n",
        "# Update user details by id. Here we have used put method at endpoint\n",
        "@app.route(\"/users/<int:user_id>\", methods=[\"PUT\"])\n",
        "def update_user(user_id):\n",
        "    data = request.get_json()\n",
        "    name = data.get(\"name\")\n",
        "    email = data.get(\"email\")\n",
        "\n",
        "# Check whether data is correct or not\n",
        "    if not name or not email:\n",
        "        return jsonify({\"error\": \"Name and email are required\"}), 400\n",
        "\n",
        "    user = users.get(user_id)\n",
        "    if user:\n",
        "        user[\"name\"] = name\n",
        "        user[\"email\"] = email\n",
        "        return jsonify(user), 200\n",
        "    else:\n",
        "        return jsonify({\"error\": \"User not found\"}), 404\n",
        "\n",
        "# Delete user by user id where we have used delete method.\n",
        "@app.route(\"/users/<int:user_id>\", methods=[\"DELETE\"])\n",
        "def delete_user(user_id):\n",
        "    if user_id in users:# if user id exist in users\n",
        "        del users[user_id]\n",
        "        return jsonify({\"message\": \"User deleted\"}), 200\n",
        "    else:# if user id does not exist in users\n",
        "        return jsonify({\"error\": \"User not found\"}), 404\n"
      ],
      "metadata": {
        "id": "ObiQYGPId9TY"
      },
      "execution_count": null,
      "outputs": []
    },
    {
      "cell_type": "code",
      "source": [
        "# Function to run flask application\n",
        "def run_flask():\n",
        "    app.run(port=5000)\n",
        "\n",
        "# Initializing separate thread to run flask application\n",
        "flask_thread = threading.Thread(target=run_flask)\n",
        "flask_thread.start()\n",
        "\n",
        "# Generating public url using ngrok\n",
        "public_url = ngrok.connect(5000).public_url\n",
        "print(f\"url : {public_url}\")"
      ],
      "metadata": {
        "colab": {
          "base_uri": "https://localhost:8080/"
        },
        "id": "V5U4D9Jdeg68",
        "outputId": "9816a6f5-7f82-40e5-cbc1-1440b3e6b8cb"
      },
      "execution_count": null,
      "outputs": [
        {
          "output_type": "stream",
          "name": "stdout",
          "text": [
            " * Serving Flask app '__main__'\n",
            " * Debug mode: off\n"
          ]
        },
        {
          "output_type": "stream",
          "name": "stderr",
          "text": [
            "INFO:werkzeug:\u001b[31m\u001b[1mWARNING: This is a development server. Do not use it in a production deployment. Use a production WSGI server instead.\u001b[0m\n",
            " * Running on http://127.0.0.1:5000\n",
            "INFO:werkzeug:\u001b[33mPress CTRL+C to quit\u001b[0m\n"
          ]
        },
        {
          "output_type": "stream",
          "name": "stdout",
          "text": [
            "url : https://e3c6-34-168-106-84.ngrok-free.app\n"
          ]
        }
      ]
    }
  ],
  "metadata": {
    "colab": {
      "provenance": [],
      "authorship_tag": "ABX9TyPiknknwLVWqYb6RaZGPkgc",
      "include_colab_link": true
    },
    "kernelspec": {
      "display_name": "Python 3",
      "name": "python3"
    },
    "language_info": {
      "name": "python"
    }
  },
  "nbformat": 4,
  "nbformat_minor": 0
}